{
 "cells": [
  {
   "cell_type": "code",
   "execution_count": 9,
   "id": "9d765809-cb93-4621-bd32-06370bb649bd",
   "metadata": {
    "ExecuteTime": {
     "end_time": "2024-07-15T09:56:28.894796Z",
     "start_time": "2024-07-15T09:56:28.891195Z"
    },
    "execution": {
     "iopub.execute_input": "2024-07-04T15:41:54.702269Z",
     "iopub.status.busy": "2024-07-04T15:41:54.701811Z",
     "iopub.status.idle": "2024-07-04T15:41:54.704858Z",
     "shell.execute_reply": "2024-07-04T15:41:54.704382Z",
     "shell.execute_reply.started": "2024-07-04T15:41:54.702243Z"
    }
   },
   "outputs": [],
   "source": [
    "import pandas as pd\n",
    "import os\n",
    "#!pip install openpyxl"
   ]
  },
  {
   "cell_type": "code",
   "execution_count": 10,
   "id": "48d583305c7c4f47",
   "metadata": {
    "ExecuteTime": {
     "end_time": "2024-07-15T09:56:28.943164Z",
     "start_time": "2024-07-15T09:56:28.939489Z"
    },
    "execution": {
     "iopub.execute_input": "2024-07-04T15:54:09.683934Z",
     "iopub.status.busy": "2024-07-04T15:54:09.683437Z",
     "iopub.status.idle": "2024-07-04T15:54:09.730618Z",
     "shell.execute_reply": "2024-07-04T15:54:09.730080Z",
     "shell.execute_reply.started": "2024-07-04T15:54:09.683912Z"
    },
    "scrolled": true
   },
   "outputs": [],
   "source": [
    "if(not os.path.isdir(\"FileEstratti\")):\n",
    "    os.mkdir(\"FileEstratti\")\n",
    "dirbase = \"FileEstratti/\""
   ]
  },
  {
   "cell_type": "markdown",
   "id": "7d57ffa324308074",
   "metadata": {},
   "source": [
    "### csv Manutenzione Programmata"
   ]
  },
  {
   "cell_type": "code",
   "execution_count": 11,
   "id": "b10d2c7e-c420-4e70-aca4-706eb546c308",
   "metadata": {
    "ExecuteTime": {
     "end_time": "2024-07-15T09:56:29.026548Z",
     "start_time": "2024-07-15T09:56:28.968519Z"
    }
   },
   "outputs": [
    {
     "name": "stdout",
     "output_type": "stream",
     "text": [
      "             Convoglio Revisione  Livello manutenzione Data fine revisione  \\\n",
      "0    TSR 020 (3 casse)        RP                     1          2020-06-10   \n",
      "1    TSR 017 (3 casse)        RT                     1          2020-06-16   \n",
      "2    TSR 008 (3 casse)        VI                     1          2020-06-17   \n",
      "3    TSR 064 (5 casse)        RT                     1          2020-06-18   \n",
      "4    TSR 059 (5 casse)        VI                     1          2020-07-04   \n",
      "..                 ...       ...                   ...                 ...   \n",
      "245  TSR 040 (6 casse)        RT                     1          2024-04-19   \n",
      "246  TSR 020 (3 casse)        RD                     1          2024-04-24   \n",
      "247  TSR 086 (6 casse)        RT                     1          2024-04-24   \n",
      "248  TSR 008 (3 casse)        VI                     1          2024-04-27   \n",
      "249  TSR 070 (5 casse)        VI                     1          2024-05-24   \n",
      "\n",
      "     Chilometri del treno al termine della revisione  \n",
      "0                                            1211297  \n",
      "1                                            1320232  \n",
      "2                                            1468074  \n",
      "3                                            1484023  \n",
      "4                                            1255257  \n",
      "..                                               ...  \n",
      "245                                          1322623  \n",
      "246                                          1590063  \n",
      "247                                           821687  \n",
      "248                                          1781848  \n",
      "249                                          1460980  \n",
      "\n",
      "[250 rows x 5 columns]\n"
     ]
    }
   ],
   "source": [
    "file_name = \"Attività manutenzione programmata  TSR (Rev. Maggio 2024).xlsx\"\n",
    "\n",
    "xl_file = pd.ExcelFile(file_name)\n",
    "\n",
    "sheetname = xl_file.sheet_names[2]\n",
    "\n",
    "xl = pd.read_excel(file_name, sheet_name=sheetname)\n",
    "print(xl)\n",
    "\n",
    "xl.to_csv(dirbase+\"Manutezione_Programmata.csv\",sep=';', encoding='utf-8', index=False)"
   ]
  },
  {
   "cell_type": "markdown",
   "id": "10f7b81df914491f",
   "metadata": {},
   "source": [
    "### csv Manutenzione Correttiva (straordinaria)"
   ]
  },
  {
   "cell_type": "code",
   "execution_count": 12,
   "id": "a3749713-aa26-406a-a92e-52deeb827c70",
   "metadata": {
    "ExecuteTime": {
     "end_time": "2024-07-15T09:56:29.852444Z",
     "start_time": "2024-07-15T09:56:29.028104Z"
    },
    "execution": {
     "iopub.execute_input": "2024-07-04T15:54:22.992030Z",
     "iopub.status.busy": "2024-07-04T15:54:22.991549Z",
     "iopub.status.idle": "2024-07-04T15:54:23.832049Z",
     "shell.execute_reply": "2024-07-04T15:54:23.831425Z",
     "shell.execute_reply.started": "2024-07-04T15:54:22.992004Z"
    }
   },
   "outputs": [
    {
     "name": "stdout",
     "output_type": "stream",
     "text": [
      "TSR 008\n",
      "TSR 070\n",
      "TSR 040\n",
      "TSR 086\n",
      "TSR 017\n",
      "TSR 020\n",
      "TSR 033\n",
      "TSR 059\n",
      "TSR 064\n"
     ]
    },
    {
     "data": {
      "text/plain": [
       "'xl = pd.read_excel(file_name, sheet_name=sheetname)\\nprint(xl)\\n\\nxl.to_csv(\"Manutezione_Straodinaria.csv\",sep=\\';\\', encoding=\\'utf-8\\', index=False)'"
      ]
     },
     "execution_count": 12,
     "metadata": {},
     "output_type": "execute_result"
    }
   ],
   "source": [
    "file_name = \"Avvisi SAP - Interventi manutentivi (Agg. giugno 2024).xlsx\"\n",
    "\n",
    "xl_file = pd.ExcelFile(file_name)\n",
    "\n",
    "xl_file.sheet_names\n",
    "\n",
    "for i in range(1,len(xl_file.sheet_names)):\n",
    "    sheetname = xl_file.sheet_names[i]\n",
    "    print(sheetname)\n",
    "    split = sheetname.split(\" \")\n",
    "    xl = pd.read_excel(file_name, sheet_name=sheetname)\n",
    "    parzialname = dirbase+\"Manutenzione_Straordinaria_\"+split[1]\n",
    "    xl.to_csv(parzialname+\".csv\",sep=';', encoding='utf-8', index=False)\n",
    "    \n",
    "#print(xl_file.sheet_names)\n",
    "\n",
    "'''xl = pd.read_excel(file_name, sheet_name=sheetname)\n",
    "print(xl)\n",
    "\n",
    "xl.to_csv(\"Manutezione_Straodinaria.csv\",sep=';', encoding='utf-8', index=False)'''"
   ]
  },
  {
   "cell_type": "markdown",
   "id": "80430d656b6882e8",
   "metadata": {},
   "source": [
    "### csv Servizi"
   ]
  },
  {
   "cell_type": "code",
   "execution_count": 13,
   "id": "5ad53ca2-8a71-425f-95c2-74f5291f7eda",
   "metadata": {
    "ExecuteTime": {
     "end_time": "2024-07-15T09:56:33.290726Z",
     "start_time": "2024-07-15T09:56:29.853669Z"
    },
    "execution": {
     "iopub.execute_input": "2024-07-04T15:54:33.633996Z",
     "iopub.status.busy": "2024-07-04T15:54:33.633632Z",
     "iopub.status.idle": "2024-07-04T15:54:36.827986Z",
     "shell.execute_reply": "2024-07-04T15:54:36.827361Z",
     "shell.execute_reply.started": "2024-07-04T15:54:33.633973Z"
    }
   },
   "outputs": [
    {
     "name": "stdout",
     "output_type": "stream",
     "text": [
      "['Servizi TSR 86.xlsx', 'Servizi TSR 40.xlsx', 'Servizi TSR 70.xlsx', 'Servizi TSR 08.xlsx']\n",
      "Servizi_086.csv\n",
      "Servizi_040.csv\n",
      "Servizi_070.csv\n",
      "Servizi_008.csv\n"
     ]
    }
   ],
   "source": [
    "dir_list = os.listdir(\"Servizi\")\n",
    "print(dir_list)\n",
    "for file in dir_list:\n",
    "    file_name = \"Servizi/\"+file\n",
    "    xl = pd.read_excel(file_name,usecols=\"B:H\",skiprows = 6)\n",
    "    f = file.split(\" \")[2].replace(\" \",\"_\")\n",
    "    filenamecsv = \"Servizi_0\"+f[:-5]+\".csv\"\n",
    "    xl.to_csv(dirbase+filenamecsv,sep=';', encoding='utf-8', index=False)\n",
    "    print(filenamecsv)"
   ]
  },
  {
   "cell_type": "code",
   "execution_count": 14,
   "id": "73747165-a76b-4ecb-aa01-bada537852f1",
   "metadata": {
    "ExecuteTime": {
     "end_time": "2024-07-15T09:56:33.294731Z",
     "start_time": "2024-07-15T09:56:33.292452Z"
    }
   },
   "outputs": [],
   "source": [
    "# DA FARE:\n",
    "# drop unnamed columns in each service csv\n",
    "# drop the last row in each service csv"
   ]
  }
 ],
 "metadata": {
  "kernelspec": {
   "display_name": "Python 3 (ipykernel)",
   "language": "python",
   "name": "python3"
  },
  "language_info": {
   "codemirror_mode": {
    "name": "ipython",
    "version": 3
   },
   "file_extension": ".py",
   "mimetype": "text/x-python",
   "name": "python",
   "nbconvert_exporter": "python",
   "pygments_lexer": "ipython3",
   "version": "3.10.10"
  }
 },
 "nbformat": 4,
 "nbformat_minor": 5
}
